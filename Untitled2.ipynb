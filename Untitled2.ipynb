{
 "cells": [
  {
   "cell_type": "code",
   "execution_count": 1,
   "id": "e7f648cc",
   "metadata": {},
   "outputs": [
    {
     "name": "stdout",
     "output_type": "stream",
     "text": [
      "['Python', 'awesome!', 'is', 'programming']\n"
     ]
    }
   ],
   "source": [
    "x = ['Python', 'programming', 'is', 'awesome!']\n",
    "print(sorted(x))\n"
   ]
  },
  {
   "cell_type": "code",
   "execution_count": 2,
   "id": "17fa62d7",
   "metadata": {},
   "outputs": [
    {
     "name": "stdout",
     "output_type": "stream",
     "text": [
      "['awesome!', 'is', 'programming', 'Python']\n"
     ]
    }
   ],
   "source": [
    "print(sorted(x, key=lambda arg: arg.lower()))"
   ]
  },
  {
   "cell_type": "code",
   "execution_count": 3,
   "id": "b5530c06",
   "metadata": {},
   "outputs": [],
   "source": [
    "#filter,map and reduce\n",
    "import pyspark"
   ]
  },
  {
   "cell_type": "code",
   "execution_count": null,
   "id": "6482b14a",
   "metadata": {},
   "outputs": [],
   "source": []
  }
 ],
 "metadata": {
  "kernelspec": {
   "display_name": "Python 3 (ipykernel)",
   "language": "python",
   "name": "python3"
  },
  "language_info": {
   "codemirror_mode": {
    "name": "ipython",
    "version": 3
   },
   "file_extension": ".py",
   "mimetype": "text/x-python",
   "name": "python",
   "nbconvert_exporter": "python",
   "pygments_lexer": "ipython3",
   "version": "3.11.1"
  }
 },
 "nbformat": 4,
 "nbformat_minor": 5
}
